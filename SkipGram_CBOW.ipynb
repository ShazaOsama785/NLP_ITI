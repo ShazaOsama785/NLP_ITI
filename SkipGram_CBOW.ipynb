{
 "cells": [
  {
   "cell_type": "code",
   "execution_count": 1,
   "id": "065b7cd9",
   "metadata": {},
   "outputs": [
    {
     "name": "stdout",
     "output_type": "stream",
     "text": [
      "Found existing installation: gensim 4.1.2\n",
      "Uninstalling gensim-4.1.2:\n",
      "  Successfully uninstalled gensim-4.1.2\n",
      "Collecting gensim==4.3.3\n",
      "  Downloading gensim-4.3.3-cp39-cp39-win_amd64.whl (24.0 MB)\n",
      "     ---------------------------------------- 24.0/24.0 MB 8.5 MB/s eta 0:00:00\n",
      "Requirement already satisfied: smart-open>=1.8.1 in c:\\users\\asus\\anaconda3\\lib\\site-packages (from gensim==4.3.3) (5.2.1)\n",
      "Requirement already satisfied: numpy<2.0,>=1.18.5 in c:\\users\\asus\\anaconda3\\lib\\site-packages (from gensim==4.3.3) (1.24.4)\n",
      "Requirement already satisfied: scipy<1.14.0,>=1.7.0 in c:\\users\\asus\\anaconda3\\lib\\site-packages (from gensim==4.3.3) (1.9.1)\n",
      "Installing collected packages: gensim\n",
      "Successfully installed gensim-4.3.3\n"
     ]
    }
   ],
   "source": [
    "!pip uninstall -y gensim\n",
    "!pip install gensim==4.3.3"
   ]
  },
  {
   "cell_type": "code",
   "execution_count": 11,
   "id": "f023dcac",
   "metadata": {},
   "outputs": [
    {
     "name": "stderr",
     "output_type": "stream",
     "text": [
      "[nltk_data] Downloading package punkt to\n",
      "[nltk_data]     C:\\Users\\ASUS\\AppData\\Roaming\\nltk_data...\n",
      "[nltk_data]   Package punkt is already up-to-date!\n"
     ]
    },
    {
     "data": {
      "text/plain": [
       "True"
      ]
     },
     "execution_count": 11,
     "metadata": {},
     "output_type": "execute_result"
    }
   ],
   "source": [
    "from gensim.models import Word2Vec\n",
    "from nltk.tokenize import word_tokenize\n",
    "import nltk\n",
    "import gensim.downloader as api\n",
    "nltk.download('punkt')\n"
   ]
  },
  {
   "cell_type": "markdown",
   "id": "88a4e08f",
   "metadata": {},
   "source": [
    "# Skip-gram"
   ]
  },
  {
   "cell_type": "code",
   "execution_count": 24,
   "id": "c40fb248",
   "metadata": {},
   "outputs": [],
   "source": [
    "def SkipGram(center_word, model):\n",
    "    similar_words=model.most_similar(center_word, topn=5)\n",
    "    \n",
    "    return similar_words"
   ]
  },
  {
   "cell_type": "markdown",
   "id": "4fb56cac",
   "metadata": {},
   "source": [
    "# CBOW"
   ]
  },
  {
   "cell_type": "code",
   "execution_count": 21,
   "id": "b1f17d4e",
   "metadata": {},
   "outputs": [],
   "source": [
    "def CBOW(context, model, window_size=2):\n",
    "    context_words=[]\n",
    "    context_embeddings=[model[word] for word in context if word in model]\n",
    "    \n",
    "    context_mean=sum(context_embeddings)/len(context_embeddings)\n",
    "    similar_words=model.similar_by_vector(context_mean, topn=5)\n",
    "    \n",
    "    return similar_words"
   ]
  },
  {
   "cell_type": "code",
   "execution_count": 26,
   "id": "26e57e51",
   "metadata": {},
   "outputs": [
    {
     "name": "stdout",
     "output_type": "stream",
     "text": [
      "[('the', 0.9126800894737244), ('on', 0.8778414726257324), ('one', 0.8382169008255005), ('this', 0.8178699016571045), ('out', 0.8095105886459351)]\n",
      "[('dog', 0.8798074722290039), ('rabbit', 0.7424427270889282), ('cats', 0.732300341129303), ('monkey', 0.7288709878921509), ('pet', 0.719014048576355)]\n"
     ]
    }
   ],
   "source": [
    "model = api.load(\"glove-wiki-gigaword-100\")\n",
    "\n",
    "words = [\"the\", \"cat\", \"on\", \"the\", \"mat\"]\n",
    "#CBOW\n",
    "print(CBOW(words, model))\n",
    "#Skip-gram\n",
    "center_word = \"cat\"\n",
    "print(SkipGram(center_word, model))"
   ]
  }
 ],
 "metadata": {
  "kernelspec": {
   "display_name": "base",
   "language": "python",
   "name": "python3"
  },
  "language_info": {
   "codemirror_mode": {
    "name": "ipython",
    "version": 3
   },
   "file_extension": ".py",
   "mimetype": "text/x-python",
   "name": "python",
   "nbconvert_exporter": "python",
   "pygments_lexer": "ipython3",
   "version": "3.9.13"
  }
 },
 "nbformat": 4,
 "nbformat_minor": 5
}
